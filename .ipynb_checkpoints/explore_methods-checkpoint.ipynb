{
 "cells": [
  {
   "cell_type": "markdown",
   "metadata": {},
   "source": [
    "# Explore Methods"
   ]
  },
  {
   "cell_type": "code",
   "execution_count": 1,
   "metadata": {},
   "outputs": [],
   "source": [
    "import pandas as pd\n",
    "import numpy as np\n",
    "\n",
    "import timeit"
   ]
  },
  {
   "cell_type": "markdown",
   "metadata": {},
   "source": [
    "## Load Data"
   ]
  },
  {
   "cell_type": "code",
   "execution_count": 2,
   "metadata": {},
   "outputs": [
    {
     "name": "stdout",
     "output_type": "stream",
     "text": [
      "(1000, 2)\n"
     ]
    },
    {
     "data": {
      "text/html": [
       "<div>\n",
       "<style scoped>\n",
       "    .dataframe tbody tr th:only-of-type {\n",
       "        vertical-align: middle;\n",
       "    }\n",
       "\n",
       "    .dataframe tbody tr th {\n",
       "        vertical-align: top;\n",
       "    }\n",
       "\n",
       "    .dataframe thead th {\n",
       "        text-align: right;\n",
       "    }\n",
       "</style>\n",
       "<table border=\"1\" class=\"dataframe\">\n",
       "  <thead>\n",
       "    <tr style=\"text-align: right;\">\n",
       "      <th></th>\n",
       "      <th>origin</th>\n",
       "      <th>destination</th>\n",
       "    </tr>\n",
       "    <tr>\n",
       "      <th>day</th>\n",
       "      <th></th>\n",
       "      <th></th>\n",
       "    </tr>\n",
       "  </thead>\n",
       "  <tbody>\n",
       "    <tr>\n",
       "      <th>2019-01-16 00:00:00+00:00</th>\n",
       "      <td>KEWR</td>\n",
       "      <td>KDFW</td>\n",
       "    </tr>\n",
       "    <tr>\n",
       "      <th>2019-01-01 00:00:00+00:00</th>\n",
       "      <td>KONT</td>\n",
       "      <td>KPHX</td>\n",
       "    </tr>\n",
       "    <tr>\n",
       "      <th>2019-01-09 00:00:00+00:00</th>\n",
       "      <td>LSZH</td>\n",
       "      <td>LTBA</td>\n",
       "    </tr>\n",
       "    <tr>\n",
       "      <th>2019-01-15 00:00:00+00:00</th>\n",
       "      <td>KSFO</td>\n",
       "      <td>KSAN</td>\n",
       "    </tr>\n",
       "    <tr>\n",
       "      <th>2019-01-01 00:00:00+00:00</th>\n",
       "      <td>PANC</td>\n",
       "      <td>MS65</td>\n",
       "    </tr>\n",
       "    <tr>\n",
       "      <th>2019-01-01 00:00:00+00:00</th>\n",
       "      <td>EBAW</td>\n",
       "      <td>EBMB</td>\n",
       "    </tr>\n",
       "    <tr>\n",
       "      <th>2019-01-09 00:00:00+00:00</th>\n",
       "      <td>KSLC</td>\n",
       "      <td>KOAK</td>\n",
       "    </tr>\n",
       "    <tr>\n",
       "      <th>2019-01-21 00:00:00+00:00</th>\n",
       "      <td>KDEN</td>\n",
       "      <td>KAUS</td>\n",
       "    </tr>\n",
       "    <tr>\n",
       "      <th>2019-01-22 00:00:00+00:00</th>\n",
       "      <td>KLAX</td>\n",
       "      <td>KRNO</td>\n",
       "    </tr>\n",
       "    <tr>\n",
       "      <th>2019-01-28 00:00:00+00:00</th>\n",
       "      <td>LTBA</td>\n",
       "      <td>DAAG</td>\n",
       "    </tr>\n",
       "  </tbody>\n",
       "</table>\n",
       "</div>"
      ],
      "text/plain": [
       "                          origin destination\n",
       "day                                         \n",
       "2019-01-16 00:00:00+00:00   KEWR        KDFW\n",
       "2019-01-01 00:00:00+00:00   KONT        KPHX\n",
       "2019-01-09 00:00:00+00:00   LSZH        LTBA\n",
       "2019-01-15 00:00:00+00:00   KSFO        KSAN\n",
       "2019-01-01 00:00:00+00:00   PANC        MS65\n",
       "2019-01-01 00:00:00+00:00   EBAW        EBMB\n",
       "2019-01-09 00:00:00+00:00   KSLC        KOAK\n",
       "2019-01-21 00:00:00+00:00   KDEN        KAUS\n",
       "2019-01-22 00:00:00+00:00   KLAX        KRNO\n",
       "2019-01-28 00:00:00+00:00   LTBA        DAAG"
      ]
     },
     "execution_count": 2,
     "metadata": {},
     "output_type": "execute_result"
    }
   ],
   "source": [
    "df = pd.read_csv(\"flights_sample.csv\", index_col = 0)\n",
    "print(df.shape)\n",
    "df.head(10)"
   ]
  },
  {
   "cell_type": "markdown",
   "metadata": {},
   "source": [
    "## Create Adjacency Matrix"
   ]
  },
  {
   "cell_type": "code",
   "execution_count": 3,
   "metadata": {},
   "outputs": [
    {
     "name": "stdout",
     "output_type": "stream",
     "text": [
      "(664,)\n"
     ]
    },
    {
     "data": {
      "text/plain": [
       "array(['01FA', '02XS', '06FA', '06TE', '0GA1', '0GA2', '0NY0', '0WI5',\n",
       "       '13AZ', '14FA', '16FA', '16TX', '1AZ2', '1CO4', '1LA1', '1OR3',\n",
       "       '1WI6', '1XS1', '20GA', '20II', '21XS', '27CA', '2AZ7', '2KS9',\n",
       "       '2TS2', '32II', '35MN', '38MO', '3GE9', '3IN7', '3MD4', '3PS9',\n",
       "       '44PA', '4FL8', '4NY4', '4TS8', '54MI', '57FA', '59TX', '5TA4',\n",
       "       '60CO', '60IN', '60MI', '64NC', '6NJ9', '71MI', '72FL', '73WA',\n",
       "       '77TS', '78MI', '79NY', '7CO0', '7KS6', '7MI6', '7PS7', '80TX',\n",
       "       '82FL', '82PA', '86MI', '8CA8', '8MI4', '8OR6', '8TX7', '96WA',\n",
       "       '97PN', '97TS', '98NY', '9IN3', 'AK67', 'AL18', 'AL72', 'AZ28',\n",
       "       'BIKF', 'BKPR', 'CA35', 'CA39', 'CA66', 'CL36', 'CMN3', 'CNC4',\n",
       "       'CO12', 'CO17', 'CO80', 'CSS3', 'CYHU', 'CYKZ', 'CYOW', 'CYTN',\n",
       "       'CYUL', 'CYVR', 'CYXX', 'CYYG', 'CYYZ', 'DAAG', 'EBAW', 'EBBR',\n",
       "       'EBCI', 'EBLG', 'EBMB', 'EDBA', 'EDDB', 'EDDE', 'EDDF', 'EDDH',\n",
       "       'EDDK', 'EDDL', 'EDDM', 'EDDN', 'EDDP', 'EDDS', 'EDDT', 'EDDV',\n",
       "       'EDDW', 'EDFD', 'EDFJ', 'EDJA', 'EDLI', 'EDLW', 'EDML', 'EDNR',\n",
       "       'EDNY', 'EDOB', 'EDOS', 'EDPA', 'EDPO', 'EDXN', 'EFHK', 'EFMA',\n",
       "       'EFTU', 'EGAA', 'EGBB', 'EGCC', 'EGCN', 'EGFF', 'EGGD', 'EGGP',\n",
       "       'EGGW', 'EGHI', 'EGJA', 'EGKK', 'EGKL', 'EGKR', 'EGLC', 'EGLK',\n",
       "       'EGLL', 'EGND', 'EGNS', 'EGNT', 'EGNX', 'EGOM', 'EGPF', 'EGPH',\n",
       "       'EGSS', 'EGSU', 'EGTB', 'EGTE', 'EGTU', 'EGWU', 'EHAM', 'EHEH',\n",
       "       'EHLE', 'EIBA', 'EICK', 'EIDW', 'EIKN', 'EIWT', 'EKAH', 'EKBI',\n",
       "       'EKCH', 'EKKA', 'EKYT', 'ELLX', 'ENGM', 'ENSI', 'EPGD', 'EPKK',\n",
       "       'EPKT', 'EPMO', 'EPPO', 'EPWA', 'EPWR', 'ESGG', 'ESKN', 'ESMS',\n",
       "       'ESNS', 'ESSA', 'ESSB', 'ETMN', 'EVRA', 'EYVI', 'EYVP', 'FA80',\n",
       "       'FABA', 'FALE', 'FAOR', 'FD08', 'FD20', 'FD38', 'FD81', 'FD83',\n",
       "       'FL16', 'FL35', 'FL57', 'FL77', 'FL90', 'GCXO', 'GMME', 'GMMN',\n",
       "       'GMTT', 'ID43', 'II40', 'II43', 'K06A', 'K06C', 'K11A', 'K1T7',\n",
       "       'K20A', 'K21D', 'K29D', 'K2R1', 'K36U', 'K3F2', 'K50F', 'K61B',\n",
       "       'K74S', 'K9X1', 'KABQ', 'KADS', 'KAFF', 'KAFW', 'KAGC', 'KAGR',\n",
       "       'KAKH', 'KAMA', 'KAPA', 'KAUN', 'KAUS', 'KAVQ', 'KAWO', 'KAZO',\n",
       "       'KBCT', 'KBDU', 'KBED', 'KBFD', 'KBFI', 'KBIF', 'KBJC', 'KBLI',\n",
       "       'KBNA', 'KBOS', 'KBOW', 'KBUF', 'KBUR', 'KBVY', 'KBWI', 'KC83',\n",
       "       'KCAE', 'KCCR', 'KCDW', 'KCGZ', 'KCHD', 'KCLE', 'KCLL', 'KCLT',\n",
       "       'KCMA', 'KCOS', 'KCRQ', 'KCVN', 'KD83', 'KDAL', 'KDCA', 'KDEN',\n",
       "       'KDFW', 'KDLL', 'KDLZ', 'KDTW', 'KDVO', 'KDVT', 'KDWH', 'KEDU',\n",
       "       'KEIK', 'KELP', 'KEVB', 'KEWB', 'KEWR', 'KEZF', 'KFFZ', 'KFLD',\n",
       "       'KFLG', 'KFLL', 'KFME', 'KFRG', 'KFST', 'KFTW', 'KFTY', 'KFWA',\n",
       "       'KGIF', 'KGKY', 'KGNV', 'KGOO', 'KGPH', 'KGPM', 'KGRR', 'KGXY',\n",
       "       'KGYR', 'KHAF', 'KHHR', 'KHIO', 'KHND', 'KHOU', 'KHPN', 'KHRL',\n",
       "       'KHUA', 'KHWD', 'KHWO', 'KHYI', 'KIAD', 'KIAH', 'KIND', 'KISM',\n",
       "       'KISP', 'KIWA', 'KIWS', 'KJFK', 'KJWN', 'KJWY', 'KK16', 'KKLS',\n",
       "       'KL65', 'KLAR', 'KLAS', 'KLAX', 'KLBB', 'KLBL', 'KLDJ', 'KLEB',\n",
       "       'KLEE', 'KLGA', 'KLGB', 'KLKU', 'KLMO', 'KLRU', 'KMAF', 'KMCC',\n",
       "       'KMCF', 'KMCI', 'KMCO', 'KMDD', 'KMDW', 'KMEM', 'KMFE', 'KMGM',\n",
       "       'KMHR', 'KMIA', 'KMKE', 'KMMU', 'KMSN', 'KMSP', 'KMTJ', 'KMTN',\n",
       "       'KMWL', 'KMXF', 'KMYF', 'KN69', 'KN71', 'KNRN', 'KO08', 'KO69',\n",
       "       'KOAK', 'KOJC', 'KOKC', 'KOMA', 'KONT', 'KOPF', 'KORD', 'KORL',\n",
       "       'KOSH', 'KOTH', 'KOUN', 'KPAN', 'KPAO', 'KPBI', 'KPDX', 'KPHK',\n",
       "       'KPHL', 'KPHX', 'KPIT', 'KPMD', 'KPMP', 'KPNE', 'KPRC', 'KPSP',\n",
       "       'KPTK', 'KPUB', 'KPVU', 'KPWK', 'KRAL', 'KRBD', 'KRDU', 'KRFD',\n",
       "       'KRFI', 'KRIR', 'KRIU', 'KRNO', 'KROC', 'KS50', 'KS97', 'KSAC',\n",
       "       'KSAN', 'KSAT', 'KSBA', 'KSBP', 'KSDL', 'KSEA', 'KSFB', 'KSFO',\n",
       "       'KSGR', 'KSGS', 'KSJC', 'KSLC', 'KSLR', 'KSMF', 'KSMO', 'KSNA',\n",
       "       'KSRQ', 'KSTL', 'KSUS', 'KT27', 'KT67', 'KTEB', 'KTKI', 'KTMB',\n",
       "       'KTME', 'KTOA', 'KTPA', 'KTTN', 'KTUS', 'KU30', 'KU42', 'KUGN',\n",
       "       'KVDF', 'KVGT', 'KVNY', 'KVUO', 'KWHP', 'KWVI', 'KXNA', 'KXSA',\n",
       "       'LA73', 'LBSF', 'LBWN', 'LCEN', 'LCLK', 'LEAL', 'LEBB', 'LEBL',\n",
       "       'LELL', 'LEMD', 'LEMG', 'LEPA', 'LESB', 'LESO', 'LEZL', 'LFBD',\n",
       "       'LFBI', 'LFBO', 'LFBP', 'LFBS', 'LFBZ', 'LFDP', 'LFLB', 'LFLJ',\n",
       "       'LFLL', 'LFLY', 'LFMI', 'LFMK', 'LFML', 'LFNR', 'LFPB', 'LFPG',\n",
       "       'LFPO', 'LFQQ', 'LFRN', 'LFRS', 'LFTH', 'LGAV', 'LHBP', 'LIBD',\n",
       "       'LIBR', 'LICA', 'LIED', 'LILG', 'LIMA', 'LIMC', 'LIME', 'LIMF',\n",
       "       'LIMJ', 'LIML', 'LIPE', 'LIPZ', 'LIRA', 'LIRF', 'LJLJ', 'LKBA',\n",
       "       'LKPR', 'LKTB', 'LL22', 'LLBG', 'LLSD', 'LMML', 'LOLW', 'LOWI',\n",
       "       'LOWS', 'LOWW', 'LPAR', 'LPFR', 'LPMA', 'LPPT', 'LRCK', 'LROP',\n",
       "       'LS40', 'LSGG', 'LSZH', 'LSZM', 'LTAC', 'LTBA', 'LTBL', 'LTBW',\n",
       "       'LTFJ', 'MD43', 'ME69', 'MMCS', 'MMMX', 'MMSD', 'MMTJ', 'MN79',\n",
       "       'MS00', 'MS65', 'MY18', 'NC16', 'NK71', 'NM08', 'NM79', 'NZAA',\n",
       "       'NZCH', 'NZFI', 'NZHN', 'NZNS', 'NZTG', 'NZWN', 'NZWR', 'NZWU',\n",
       "       'OBBI', 'OEDF', 'OERK', 'OERY', 'OI45', 'OI49', 'OK25', 'OLBA',\n",
       "       'OMAA', 'OMAL', 'OMDB', 'OMDW', 'OMSJ', 'OTBD', 'OTBH', 'OTHH',\n",
       "       'PA39', 'PA49', 'PAEN', 'PAMR', 'PANC', 'RCSS', 'RCTP', 'RJBB',\n",
       "       'RJFF', 'RJTK', 'RJTT', 'RPLC', 'RPLL', 'SABE', 'SADQ', 'SAEZ',\n",
       "       'SAZM', 'SBBR', 'SBCO', 'SBCX', 'SBFL', 'SBGL', 'SBGR', 'SBKP',\n",
       "       'SBMT', 'SBRJ', 'SBSP', 'SBVT', 'SDCO', 'SJSH', 'SKBO', 'SKGY',\n",
       "       'SLCB', 'SLCY', 'SN65', 'SSJC', 'SWJX', 'TS00', 'TS35', 'UGTB',\n",
       "       'UIII', 'ULLI', 'URRP', 'URWA', 'USSS', 'UT13', 'UUDD', 'UUEE',\n",
       "       'UUOO', 'UUWW', 'UWUU', 'VABB', 'VAPO', 'VCBI', 'VHHH', 'VIDP',\n",
       "       'VMMC', 'VOBL', 'VOMM', 'VT20', 'WI95', 'WIII', 'WIPA', 'WMKK',\n",
       "       'WN21', 'WN53', 'WN80', 'XA65', 'XS14', 'YBAF', 'YBBN', 'YBCG',\n",
       "       'YBLT', 'YBMC', 'YBVA', 'YCAL', 'YCVG', 'YMAV', 'YMBU', 'YMMB',\n",
       "       'YMML', 'YPAD', 'YPEC', 'YPJT', 'YPPF', 'YPPH', 'YRED', 'YRSY',\n",
       "       'YSCB', 'YSCH', 'YSNW', 'YSSY', 'YSTW', 'YTYH', 'YWHA', 'YWOL'],\n",
       "      dtype=object)"
      ]
     },
     "execution_count": 3,
     "metadata": {},
     "output_type": "execute_result"
    }
   ],
   "source": [
    "airports = np.unique(np.append(df[\"origin\"], df[\"destination\"]))\n",
    "print(airports.shape)\n",
    "airports"
   ]
  },
  {
   "cell_type": "code",
   "execution_count": 4,
   "metadata": {},
   "outputs": [
    {
     "name": "stdout",
     "output_type": "stream",
     "text": [
      "(664, 664)\n"
     ]
    },
    {
     "data": {
      "text/plain": [
       "array([[0, 0, 0, ..., 0, 0, 0],\n",
       "       [0, 0, 0, ..., 0, 0, 0],\n",
       "       [0, 0, 0, ..., 0, 0, 0],\n",
       "       ...,\n",
       "       [0, 0, 0, ..., 0, 0, 0],\n",
       "       [0, 0, 0, ..., 0, 0, 0],\n",
       "       [0, 0, 0, ..., 0, 0, 0]])"
      ]
     },
     "execution_count": 4,
     "metadata": {},
     "output_type": "execute_result"
    }
   ],
   "source": [
    "# Create nxn-matrix of zeros\n",
    "A = np.zeros((len(airports), len(airports)), dtype = int)\n",
    "print(A.shape)\n",
    "A"
   ]
  },
  {
   "cell_type": "code",
   "execution_count": 5,
   "metadata": {},
   "outputs": [
    {
     "name": "stdout",
     "output_type": "stream",
     "text": [
      "(1000, 2)\n"
     ]
    },
    {
     "data": {
      "text/html": [
       "<div>\n",
       "<style scoped>\n",
       "    .dataframe tbody tr th:only-of-type {\n",
       "        vertical-align: middle;\n",
       "    }\n",
       "\n",
       "    .dataframe tbody tr th {\n",
       "        vertical-align: top;\n",
       "    }\n",
       "\n",
       "    .dataframe thead th {\n",
       "        text-align: right;\n",
       "    }\n",
       "</style>\n",
       "<table border=\"1\" class=\"dataframe\">\n",
       "  <thead>\n",
       "    <tr style=\"text-align: right;\">\n",
       "      <th></th>\n",
       "      <th>origin</th>\n",
       "      <th>destination</th>\n",
       "    </tr>\n",
       "    <tr>\n",
       "      <th>day</th>\n",
       "      <th></th>\n",
       "      <th></th>\n",
       "    </tr>\n",
       "  </thead>\n",
       "  <tbody>\n",
       "    <tr>\n",
       "      <th>2019-01-16 00:00:00+00:00</th>\n",
       "      <td>284</td>\n",
       "      <td>272</td>\n",
       "    </tr>\n",
       "    <tr>\n",
       "      <th>2019-01-01 00:00:00+00:00</th>\n",
       "      <td>372</td>\n",
       "      <td>385</td>\n",
       "    </tr>\n",
       "    <tr>\n",
       "      <th>2019-01-09 00:00:00+00:00</th>\n",
       "      <td>522</td>\n",
       "      <td>525</td>\n",
       "    </tr>\n",
       "    <tr>\n",
       "      <th>2019-01-15 00:00:00+00:00</th>\n",
       "      <td>415</td>\n",
       "      <td>408</td>\n",
       "    </tr>\n",
       "    <tr>\n",
       "      <th>2019-01-01 00:00:00+00:00</th>\n",
       "      <td>572</td>\n",
       "      <td>537</td>\n",
       "    </tr>\n",
       "    <tr>\n",
       "      <th>2019-01-01 00:00:00+00:00</th>\n",
       "      <td>94</td>\n",
       "      <td>98</td>\n",
       "    </tr>\n",
       "    <tr>\n",
       "      <th>2019-01-09 00:00:00+00:00</th>\n",
       "      <td>419</td>\n",
       "      <td>368</td>\n",
       "    </tr>\n",
       "    <tr>\n",
       "      <th>2019-01-21 00:00:00+00:00</th>\n",
       "      <td>271</td>\n",
       "      <td>236</td>\n",
       "    </tr>\n",
       "    <tr>\n",
       "      <th>2019-01-22 00:00:00+00:00</th>\n",
       "      <td>331</td>\n",
       "      <td>403</td>\n",
       "    </tr>\n",
       "    <tr>\n",
       "      <th>2019-01-28 00:00:00+00:00</th>\n",
       "      <td>525</td>\n",
       "      <td>93</td>\n",
       "    </tr>\n",
       "  </tbody>\n",
       "</table>\n",
       "</div>"
      ],
      "text/plain": [
       "                           origin  destination\n",
       "day                                           \n",
       "2019-01-16 00:00:00+00:00     284          272\n",
       "2019-01-01 00:00:00+00:00     372          385\n",
       "2019-01-09 00:00:00+00:00     522          525\n",
       "2019-01-15 00:00:00+00:00     415          408\n",
       "2019-01-01 00:00:00+00:00     572          537\n",
       "2019-01-01 00:00:00+00:00      94           98\n",
       "2019-01-09 00:00:00+00:00     419          368\n",
       "2019-01-21 00:00:00+00:00     271          236\n",
       "2019-01-22 00:00:00+00:00     331          403\n",
       "2019-01-28 00:00:00+00:00     525           93"
      ]
     },
     "execution_count": 5,
     "metadata": {},
     "output_type": "execute_result"
    }
   ],
   "source": [
    "# Map airports in dataframe to their graph number\n",
    "mapping_dict = {k:i for i,k in enumerate(airports)}\n",
    "\n",
    "df_mapped = df.applymap(lambda x: mapping_dict[x])\n",
    "print(df_mapped.shape)\n",
    "df_mapped.head(10)"
   ]
  },
  {
   "cell_type": "code",
   "execution_count": 6,
   "metadata": {},
   "outputs": [
    {
     "data": {
      "text/plain": [
       "array([[0, 0, 0, ..., 0, 0, 0],\n",
       "       [0, 0, 0, ..., 0, 0, 0],\n",
       "       [0, 0, 0, ..., 0, 0, 0],\n",
       "       ...,\n",
       "       [0, 0, 0, ..., 0, 0, 0],\n",
       "       [0, 0, 0, ..., 0, 0, 0],\n",
       "       [0, 0, 0, ..., 0, 0, 1]])"
      ]
     },
     "execution_count": 6,
     "metadata": {},
     "output_type": "execute_result"
    }
   ],
   "source": [
    "# Fill adjacency matrix\n",
    "for date, flight in df_mapped.iterrows():\n",
    "    i, j = flight[\"origin\"], flight[\"destination\"]\n",
    "    if A[i,j] == 0:\n",
    "        A[i,j], A[j,i] = 1,1\n",
    "\n",
    "A"
   ]
  },
  {
   "cell_type": "markdown",
   "metadata": {},
   "source": [
    "## Analysis 1: Can you fly from A to B directly?"
   ]
  },
  {
   "cell_type": "markdown",
   "metadata": {},
   "source": [
    "### Conventional Pandas Method"
   ]
  },
  {
   "cell_type": "markdown",
   "metadata": {},
   "source": [
    "Can you fly from a to b directly? <br>\n",
    "How many destinations can you reach from a directly?"
   ]
  },
  {
   "cell_type": "code",
   "execution_count": 70,
   "metadata": {},
   "outputs": [],
   "source": [
    "def exists_direct_path(df, node1, node2):\n",
    "    \n",
    "    # Loop through each row\n",
    "    for i, row in df.iterrows():\n",
    "        \n",
    "        # Check whether (node1, node2) or (node2, node1) is in the dataset\n",
    "        if {row[\"origin\"], row[\"destination\"]} == {node1,node2}:\n",
    "            return True\n",
    "        \n",
    "    return False"
   ]
  },
  {
   "cell_type": "code",
   "execution_count": 97,
   "metadata": {},
   "outputs": [
    {
     "data": {
      "text/plain": [
       "True"
      ]
     },
     "execution_count": 97,
     "metadata": {},
     "output_type": "execute_result"
    }
   ],
   "source": [
    "node1, node2 = \"KEWR\", \"KDFW\"\n",
    "exists_direct_path(df, node1, node2)"
   ]
  },
  {
   "cell_type": "code",
   "execution_count": 108,
   "metadata": {},
   "outputs": [
    {
     "name": "stdout",
     "output_type": "stream",
     "text": [
      "Time: 3.24 sec\n"
     ]
    }
   ],
   "source": [
    "test_size = 100\n",
    "\n",
    "np.random.seed(10)\n",
    "test_airports = np.random.choice(airports,test_size)\n",
    "\n",
    "start = timeit.default_timer()\n",
    "\n",
    "for i in range(0,test_size,2):\n",
    "    exists_direct_path(df, test_airports[i], test_airports[i+1])\n",
    "    \n",
    "stop = timeit.default_timer()\n",
    "print(\"Time:\", round(stop-start,2), \"sec\")"
   ]
  },
  {
   "cell_type": "markdown",
   "metadata": {},
   "source": [
    "### Graph Method"
   ]
  },
  {
   "cell_type": "code",
   "execution_count": 98,
   "metadata": {},
   "outputs": [
    {
     "data": {
      "text/plain": [
       "True"
      ]
     },
     "execution_count": 98,
     "metadata": {},
     "output_type": "execute_result"
    }
   ],
   "source": [
    "node1, node2 = mapping_dict[\"KEWR\"], mapping_dict[\"KDFW\"]\n",
    "A[node1, node2] == 1"
   ]
  },
  {
   "cell_type": "code",
   "execution_count": 107,
   "metadata": {},
   "outputs": [
    {
     "name": "stdout",
     "output_type": "stream",
     "text": [
      "Time: 0.0 sec\n"
     ]
    }
   ],
   "source": [
    "test_size = 100\n",
    "\n",
    "np.random.seed(10)\n",
    "test_airports = np.random.choice(airports,test_size)\n",
    "\n",
    "start = timeit.default_timer()\n",
    "\n",
    "for i in range(0,test_size,2):\n",
    "    node1, node2 = mapping_dict[test_airports[i]], mapping_dict[test_airports[i+1]]\n",
    "    A[node1, node2] == 1\n",
    "    \n",
    "stop = timeit.default_timer()\n",
    "print(\"Time:\", round(stop-start,2), \"sec\")"
   ]
  },
  {
   "cell_type": "markdown",
   "metadata": {},
   "source": [
    "## Analysis 2: How many destinations is A directly linked to?"
   ]
  },
  {
   "cell_type": "markdown",
   "metadata": {},
   "source": [
    "### Conventional Pandas Method"
   ]
  },
  {
   "cell_type": "code",
   "execution_count": null,
   "metadata": {},
   "outputs": [],
   "source": [
    "def degree(df, node):\n",
    "    \n",
    "    # Setup empty list\n",
    "    flights = []\n",
    "    \n",
    "    # Loop through every row\n",
    "    for i, row in df.iterrows():\n",
    "        \n",
    "        # If the node is either an origin or a destination, there must be a direct path\n",
    "        if row[\"origin\"] == node:\n",
    "            flights.append(row[\"destination\"])\n",
    "        elif row[\"destination\"] == node:\n",
    "            flights.append(row[\"origin\"])\n",
    "    \n",
    "    # Remove duplicates\n",
    "    flights = list(set(flights))\n",
    "    \n",
    "    return len(flights)"
   ]
  },
  {
   "cell_type": "code",
   "execution_count": 105,
   "metadata": {},
   "outputs": [
    {
     "data": {
      "text/plain": [
       "13"
      ]
     },
     "execution_count": 105,
     "metadata": {},
     "output_type": "execute_result"
    }
   ],
   "source": [
    "node = \"KEWR\"\n",
    "degree(df, node)"
   ]
  },
  {
   "cell_type": "code",
   "execution_count": 110,
   "metadata": {},
   "outputs": [
    {
     "name": "stdout",
     "output_type": "stream",
     "text": [
      "Time: 3.23 sec\n"
     ]
    }
   ],
   "source": [
    "test_size = 100\n",
    "\n",
    "np.random.seed(10)\n",
    "test_airports = np.random.choice(airports,test_size)\n",
    "\n",
    "start = timeit.default_timer()\n",
    "\n",
    "for i in range(0,test_size,2):\n",
    "    degree(df, test_airports[i])\n",
    "    \n",
    "stop = timeit.default_timer()\n",
    "print(\"Time:\", round(stop-start,2), \"sec\")"
   ]
  },
  {
   "cell_type": "markdown",
   "metadata": {},
   "source": [
    "## Graph Method"
   ]
  },
  {
   "cell_type": "code",
   "execution_count": 106,
   "metadata": {},
   "outputs": [
    {
     "data": {
      "text/plain": [
       "13"
      ]
     },
     "execution_count": 106,
     "metadata": {},
     "output_type": "execute_result"
    }
   ],
   "source": [
    "node = mapping_dict[\"KEWR\"]\n",
    "A[node].sum()"
   ]
  },
  {
   "cell_type": "code",
   "execution_count": 111,
   "metadata": {},
   "outputs": [
    {
     "name": "stdout",
     "output_type": "stream",
     "text": [
      "Time: 0.0 sec\n"
     ]
    }
   ],
   "source": [
    "test_size = 100\n",
    "\n",
    "np.random.seed(10)\n",
    "test_airports = np.random.choice(airports,test_size)\n",
    "\n",
    "start = timeit.default_timer()\n",
    "\n",
    "for i in range(0,test_size,2):\n",
    "    node = mapping_dict[test_airports[i]]\n",
    "    A[node].sum()\n",
    "    \n",
    "stop = timeit.default_timer()\n",
    "print(\"Time:\", round(stop-start,2), \"sec\")"
   ]
  },
  {
   "cell_type": "markdown",
   "metadata": {},
   "source": [
    "## Analysis 3 : Shortest Path from A to B"
   ]
  },
  {
   "cell_type": "markdown",
   "metadata": {},
   "source": [
    "### Graph Method"
   ]
  },
  {
   "cell_type": "code",
   "execution_count": 60,
   "metadata": {},
   "outputs": [],
   "source": [
    "def shortest_path(A, x, y, iterations = 10):\n",
    "    \n",
    "    M = A.copy()\n",
    "    \n",
    "    i, j = mapping_dict[x], mapping_dict[y]\n",
    "    iterations = 10\n",
    "\n",
    "    for k in range(iterations):\n",
    "        if M[i,j] == 0:\n",
    "            M = np.matmul(M,A)\n",
    "        else:\n",
    "            return (x,y,k)"
   ]
  },
  {
   "cell_type": "code",
   "execution_count": 13,
   "metadata": {},
   "outputs": [
    {
     "data": {
      "text/plain": [
       "['LIRF', 'EVRA']"
      ]
     },
     "execution_count": 13,
     "metadata": {},
     "output_type": "execute_result"
    }
   ],
   "source": [
    "home_airport = \"LFPO\"\n",
    "vacation_destinations = [\"YWHA\", \"LTAC\", \"LIRF\", \"EVRA\", \"KRFI\"]\n",
    "max_changes = 2\n",
    "\n",
    "n_changes = [shortest_path(A, home_airport, destination) for destination in vacation_destinations]\n",
    "acceptable = [destination for location, destination, changes in n_changes if changes <= 2]\n",
    "acceptable"
   ]
  },
  {
   "cell_type": "code",
   "execution_count": 48,
   "metadata": {},
   "outputs": [
    {
     "name": "stdout",
     "output_type": "stream",
     "text": [
      "Time: 18.06 sec\n"
     ]
    }
   ],
   "source": [
    "np.random.seed(10)\n",
    "test_airports = np.random.choice(airports,20)\n",
    "\n",
    "start = timeit.default_timer()\n",
    "\n",
    "for i in range(0,20,2):\n",
    "    shortest_path(A, test_airports[i], test_airports[i+1], iterations = 10)\n",
    "    \n",
    "stop = timeit.default_timer()\n",
    "print(\"Time:\", round(stop-start,2), \"sec\")"
   ]
  }
 ],
 "metadata": {
  "kernelspec": {
   "display_name": "Python 3",
   "language": "python",
   "name": "python3"
  },
  "language_info": {
   "codemirror_mode": {
    "name": "ipython",
    "version": 3
   },
   "file_extension": ".py",
   "mimetype": "text/x-python",
   "name": "python",
   "nbconvert_exporter": "python",
   "pygments_lexer": "ipython3",
   "version": "3.7.6"
  }
 },
 "nbformat": 4,
 "nbformat_minor": 4
}
