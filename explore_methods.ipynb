{
 "cells": [
  {
   "cell_type": "markdown",
   "metadata": {},
   "source": [
    "# Explore Methods"
   ]
  },
  {
   "cell_type": "markdown",
   "metadata": {},
   "source": [
    "In this notebook, we will explore different methods for analyzing paths between airports. Mainly, we will find out in which ways graph-based approaches are preferable to other commonly used methods. <br>\n",
    "Note that this notebook is not meant to be a standalone tutorial. Please read the corresponding medium article linked in the repository."
   ]
  },
  {
   "cell_type": "code",
   "execution_count": 7,
   "metadata": {},
   "outputs": [],
   "source": [
    "import pandas as pd\n",
    "import numpy as np\n",
    "\n",
    "import timeit"
   ]
  },
  {
   "cell_type": "markdown",
   "metadata": {},
   "source": [
    "## Load Data"
   ]
  },
  {
   "cell_type": "markdown",
   "metadata": {},
   "source": [
    "The dataset we load here is already cleaned. See `clean_dataset.ipynb` for more."
   ]
  },
  {
   "cell_type": "code",
   "execution_count": 16,
   "metadata": {},
   "outputs": [
    {
     "name": "stdout",
     "output_type": "stream",
     "text": [
      "(1000, 2)\n"
     ]
    },
    {
     "data": {
      "text/html": [
       "<div>\n",
       "<style scoped>\n",
       "    .dataframe tbody tr th:only-of-type {\n",
       "        vertical-align: middle;\n",
       "    }\n",
       "\n",
       "    .dataframe tbody tr th {\n",
       "        vertical-align: top;\n",
       "    }\n",
       "\n",
       "    .dataframe thead th {\n",
       "        text-align: right;\n",
       "    }\n",
       "</style>\n",
       "<table border=\"1\" class=\"dataframe\">\n",
       "  <thead>\n",
       "    <tr style=\"text-align: right;\">\n",
       "      <th></th>\n",
       "      <th>origin</th>\n",
       "      <th>destination</th>\n",
       "    </tr>\n",
       "    <tr>\n",
       "      <th>day</th>\n",
       "      <th></th>\n",
       "      <th></th>\n",
       "    </tr>\n",
       "  </thead>\n",
       "  <tbody>\n",
       "    <tr>\n",
       "      <th>2019-01-16 00:00:00+00:00</th>\n",
       "      <td>KEWR</td>\n",
       "      <td>KDFW</td>\n",
       "    </tr>\n",
       "    <tr>\n",
       "      <th>2019-01-01 00:00:00+00:00</th>\n",
       "      <td>KONT</td>\n",
       "      <td>KPHX</td>\n",
       "    </tr>\n",
       "    <tr>\n",
       "      <th>2019-01-09 00:00:00+00:00</th>\n",
       "      <td>LSZH</td>\n",
       "      <td>LTBA</td>\n",
       "    </tr>\n",
       "    <tr>\n",
       "      <th>2019-01-15 00:00:00+00:00</th>\n",
       "      <td>KSFO</td>\n",
       "      <td>KSAN</td>\n",
       "    </tr>\n",
       "    <tr>\n",
       "      <th>2019-01-01 00:00:00+00:00</th>\n",
       "      <td>PANC</td>\n",
       "      <td>MS65</td>\n",
       "    </tr>\n",
       "    <tr>\n",
       "      <th>2019-01-01 00:00:00+00:00</th>\n",
       "      <td>EBAW</td>\n",
       "      <td>EBMB</td>\n",
       "    </tr>\n",
       "    <tr>\n",
       "      <th>2019-01-09 00:00:00+00:00</th>\n",
       "      <td>KSLC</td>\n",
       "      <td>KOAK</td>\n",
       "    </tr>\n",
       "    <tr>\n",
       "      <th>2019-01-21 00:00:00+00:00</th>\n",
       "      <td>KDEN</td>\n",
       "      <td>KAUS</td>\n",
       "    </tr>\n",
       "    <tr>\n",
       "      <th>2019-01-22 00:00:00+00:00</th>\n",
       "      <td>KLAX</td>\n",
       "      <td>KRNO</td>\n",
       "    </tr>\n",
       "    <tr>\n",
       "      <th>2019-01-28 00:00:00+00:00</th>\n",
       "      <td>LTBA</td>\n",
       "      <td>DAAG</td>\n",
       "    </tr>\n",
       "  </tbody>\n",
       "</table>\n",
       "</div>"
      ],
      "text/plain": [
       "                          origin destination\n",
       "day                                         \n",
       "2019-01-16 00:00:00+00:00   KEWR        KDFW\n",
       "2019-01-01 00:00:00+00:00   KONT        KPHX\n",
       "2019-01-09 00:00:00+00:00   LSZH        LTBA\n",
       "2019-01-15 00:00:00+00:00   KSFO        KSAN\n",
       "2019-01-01 00:00:00+00:00   PANC        MS65\n",
       "2019-01-01 00:00:00+00:00   EBAW        EBMB\n",
       "2019-01-09 00:00:00+00:00   KSLC        KOAK\n",
       "2019-01-21 00:00:00+00:00   KDEN        KAUS\n",
       "2019-01-22 00:00:00+00:00   KLAX        KRNO\n",
       "2019-01-28 00:00:00+00:00   LTBA        DAAG"
      ]
     },
     "execution_count": 16,
     "metadata": {},
     "output_type": "execute_result"
    }
   ],
   "source": [
    "df = pd.read_csv(\"flights_sample.csv\", index_col = 0)\n",
    "print(df.shape)\n",
    "df.head(10)"
   ]
  },
  {
   "cell_type": "markdown",
   "metadata": {},
   "source": [
    "## Create Adjacency Matrix"
   ]
  },
  {
   "cell_type": "code",
   "execution_count": 19,
   "metadata": {},
   "outputs": [
    {
     "name": "stdout",
     "output_type": "stream",
     "text": [
      "(664,)\n"
     ]
    },
    {
     "data": {
      "text/plain": [
       "array(['01FA', '02XS', '06FA', '06TE', '0GA1', '0GA2', '0NY0', '0WI5',\n",
       "       '13AZ', '14FA', '16FA', '16TX', '1AZ2', '1CO4', '1LA1', '1OR3',\n",
       "       '1WI6', '1XS1', '20GA', '20II'], dtype=object)"
      ]
     },
     "execution_count": 19,
     "metadata": {},
     "output_type": "execute_result"
    }
   ],
   "source": [
    "# Get unique airports\n",
    "airports = np.unique(np.append(df[\"origin\"], df[\"destination\"]))\n",
    "print(airports.shape)\n",
    "airports[:20]"
   ]
  },
  {
   "cell_type": "code",
   "execution_count": 22,
   "metadata": {},
   "outputs": [
    {
     "name": "stdout",
     "output_type": "stream",
     "text": [
      "(1000, 2)\n"
     ]
    },
    {
     "data": {
      "text/html": [
       "<div>\n",
       "<style scoped>\n",
       "    .dataframe tbody tr th:only-of-type {\n",
       "        vertical-align: middle;\n",
       "    }\n",
       "\n",
       "    .dataframe tbody tr th {\n",
       "        vertical-align: top;\n",
       "    }\n",
       "\n",
       "    .dataframe thead th {\n",
       "        text-align: right;\n",
       "    }\n",
       "</style>\n",
       "<table border=\"1\" class=\"dataframe\">\n",
       "  <thead>\n",
       "    <tr style=\"text-align: right;\">\n",
       "      <th></th>\n",
       "      <th>origin</th>\n",
       "      <th>destination</th>\n",
       "    </tr>\n",
       "    <tr>\n",
       "      <th>day</th>\n",
       "      <th></th>\n",
       "      <th></th>\n",
       "    </tr>\n",
       "  </thead>\n",
       "  <tbody>\n",
       "    <tr>\n",
       "      <th>2019-01-16 00:00:00+00:00</th>\n",
       "      <td>284</td>\n",
       "      <td>272</td>\n",
       "    </tr>\n",
       "    <tr>\n",
       "      <th>2019-01-01 00:00:00+00:00</th>\n",
       "      <td>372</td>\n",
       "      <td>385</td>\n",
       "    </tr>\n",
       "    <tr>\n",
       "      <th>2019-01-09 00:00:00+00:00</th>\n",
       "      <td>522</td>\n",
       "      <td>525</td>\n",
       "    </tr>\n",
       "    <tr>\n",
       "      <th>2019-01-15 00:00:00+00:00</th>\n",
       "      <td>415</td>\n",
       "      <td>408</td>\n",
       "    </tr>\n",
       "    <tr>\n",
       "      <th>2019-01-01 00:00:00+00:00</th>\n",
       "      <td>572</td>\n",
       "      <td>537</td>\n",
       "    </tr>\n",
       "    <tr>\n",
       "      <th>2019-01-01 00:00:00+00:00</th>\n",
       "      <td>94</td>\n",
       "      <td>98</td>\n",
       "    </tr>\n",
       "    <tr>\n",
       "      <th>2019-01-09 00:00:00+00:00</th>\n",
       "      <td>419</td>\n",
       "      <td>368</td>\n",
       "    </tr>\n",
       "    <tr>\n",
       "      <th>2019-01-21 00:00:00+00:00</th>\n",
       "      <td>271</td>\n",
       "      <td>236</td>\n",
       "    </tr>\n",
       "    <tr>\n",
       "      <th>2019-01-22 00:00:00+00:00</th>\n",
       "      <td>331</td>\n",
       "      <td>403</td>\n",
       "    </tr>\n",
       "    <tr>\n",
       "      <th>2019-01-28 00:00:00+00:00</th>\n",
       "      <td>525</td>\n",
       "      <td>93</td>\n",
       "    </tr>\n",
       "  </tbody>\n",
       "</table>\n",
       "</div>"
      ],
      "text/plain": [
       "                           origin  destination\n",
       "day                                           \n",
       "2019-01-16 00:00:00+00:00     284          272\n",
       "2019-01-01 00:00:00+00:00     372          385\n",
       "2019-01-09 00:00:00+00:00     522          525\n",
       "2019-01-15 00:00:00+00:00     415          408\n",
       "2019-01-01 00:00:00+00:00     572          537\n",
       "2019-01-01 00:00:00+00:00      94           98\n",
       "2019-01-09 00:00:00+00:00     419          368\n",
       "2019-01-21 00:00:00+00:00     271          236\n",
       "2019-01-22 00:00:00+00:00     331          403\n",
       "2019-01-28 00:00:00+00:00     525           93"
      ]
     },
     "execution_count": 22,
     "metadata": {},
     "output_type": "execute_result"
    }
   ],
   "source": [
    "# Map airports in dataframe to their graph number\n",
    "mapping_dict = {k:i for i,k in enumerate(airports)}\n",
    "\n",
    "df_mapped = df.applymap(lambda x: mapping_dict[x])\n",
    "print(df_mapped.shape)\n",
    "df_mapped.head(10)"
   ]
  },
  {
   "cell_type": "code",
   "execution_count": 23,
   "metadata": {},
   "outputs": [
    {
     "name": "stdout",
     "output_type": "stream",
     "text": [
      "Shape: (664, 664)\n"
     ]
    },
    {
     "data": {
      "text/plain": [
       "array([[0, 0, 0, 0, 0, 0, 0, 0, 0, 0, 0, 0, 0, 0, 0, 0, 0, 0, 0, 0],\n",
       "       [0, 0, 0, 0, 0, 0, 0, 0, 0, 0, 0, 0, 0, 0, 0, 0, 0, 0, 0, 0],\n",
       "       [0, 0, 0, 0, 0, 0, 0, 0, 0, 1, 0, 0, 0, 0, 0, 0, 0, 0, 0, 0],\n",
       "       [0, 0, 0, 0, 0, 0, 0, 0, 0, 0, 0, 0, 0, 0, 0, 0, 0, 0, 0, 0],\n",
       "       [0, 0, 0, 0, 0, 1, 0, 0, 0, 0, 0, 0, 0, 0, 0, 0, 0, 0, 0, 0],\n",
       "       [0, 0, 0, 0, 1, 0, 0, 0, 0, 0, 0, 0, 0, 0, 0, 0, 0, 0, 0, 0],\n",
       "       [0, 0, 0, 0, 0, 0, 0, 0, 0, 0, 0, 0, 0, 0, 0, 0, 0, 0, 0, 0],\n",
       "       [0, 0, 0, 0, 0, 0, 0, 0, 0, 0, 0, 0, 0, 0, 0, 0, 0, 0, 0, 0],\n",
       "       [0, 0, 0, 0, 0, 0, 0, 0, 0, 0, 0, 0, 0, 0, 0, 0, 0, 0, 0, 0],\n",
       "       [0, 0, 1, 0, 0, 0, 0, 0, 0, 0, 0, 0, 0, 0, 0, 0, 0, 0, 0, 0],\n",
       "       [0, 0, 0, 0, 0, 0, 0, 0, 0, 0, 0, 0, 0, 0, 0, 0, 0, 0, 0, 0],\n",
       "       [0, 0, 0, 0, 0, 0, 0, 0, 0, 0, 0, 0, 0, 0, 0, 0, 0, 0, 0, 0],\n",
       "       [0, 0, 0, 0, 0, 0, 0, 0, 0, 0, 0, 0, 0, 0, 0, 0, 0, 0, 0, 0],\n",
       "       [0, 0, 0, 0, 0, 0, 0, 0, 0, 0, 0, 0, 0, 0, 0, 0, 0, 0, 0, 0],\n",
       "       [0, 0, 0, 0, 0, 0, 0, 0, 0, 0, 0, 0, 0, 0, 0, 0, 0, 0, 0, 0],\n",
       "       [0, 0, 0, 0, 0, 0, 0, 0, 0, 0, 0, 0, 0, 0, 0, 0, 0, 0, 0, 0],\n",
       "       [0, 0, 0, 0, 0, 0, 0, 0, 0, 0, 0, 0, 0, 0, 0, 0, 0, 0, 0, 0],\n",
       "       [0, 0, 0, 0, 0, 0, 0, 0, 0, 0, 0, 0, 0, 0, 0, 0, 0, 0, 0, 0],\n",
       "       [0, 0, 0, 0, 0, 0, 0, 0, 0, 0, 0, 0, 0, 0, 0, 0, 0, 0, 0, 0],\n",
       "       [0, 0, 0, 0, 0, 0, 0, 0, 0, 0, 0, 0, 0, 0, 0, 0, 0, 0, 0, 0]])"
      ]
     },
     "execution_count": 23,
     "metadata": {},
     "output_type": "execute_result"
    }
   ],
   "source": [
    "# Create nxn-matrix of zeros\n",
    "A = np.zeros((len(airports), len(airports)), dtype = int)\n",
    "print(\"Shape:\",A.shape)\n",
    "\n",
    "# Fill adjacency matrix\n",
    "for date, flight in df_mapped.iterrows():\n",
    "    i, j = flight[\"origin\"], flight[\"destination\"]\n",
    "    if A[i,j] == 0:\n",
    "        A[i,j], A[j,i] = 1,1\n",
    "\n",
    "A[:20,:20]"
   ]
  },
  {
   "cell_type": "markdown",
   "metadata": {},
   "source": [
    "## Analysis 1: Can you fly from A to B directly?"
   ]
  },
  {
   "cell_type": "markdown",
   "metadata": {},
   "source": [
    "### Conventional Pandas Method"
   ]
  },
  {
   "cell_type": "code",
   "execution_count": 24,
   "metadata": {},
   "outputs": [],
   "source": [
    "def exists_direct_path(df, node1, node2):\n",
    "    \n",
    "    # Loop through each row\n",
    "    for i, row in df.iterrows():\n",
    "        \n",
    "        # Check whether (node1, node2) or (node2, node1) is in the dataset\n",
    "        if {row[\"origin\"], row[\"destination\"]} == {node1,node2}:\n",
    "            return True\n",
    "        \n",
    "    return False"
   ]
  },
  {
   "cell_type": "code",
   "execution_count": 25,
   "metadata": {},
   "outputs": [
    {
     "data": {
      "text/plain": [
       "True"
      ]
     },
     "execution_count": 25,
     "metadata": {},
     "output_type": "execute_result"
    }
   ],
   "source": [
    "node1, node2 = \"KEWR\", \"KDFW\"\n",
    "exists_direct_path(df, node1, node2)"
   ]
  },
  {
   "cell_type": "markdown",
   "metadata": {},
   "source": [
    "### Graph Method"
   ]
  },
  {
   "cell_type": "code",
   "execution_count": 17,
   "metadata": {},
   "outputs": [
    {
     "data": {
      "text/plain": [
       "True"
      ]
     },
     "execution_count": 17,
     "metadata": {},
     "output_type": "execute_result"
    }
   ],
   "source": [
    "node1, node2 = mapping_dict[\"KEWR\"], mapping_dict[\"KDFW\"]\n",
    "A[node1, node2] == 1"
   ]
  },
  {
   "cell_type": "markdown",
   "metadata": {},
   "source": [
    "## Analysis 2: How many destinations is A directly linked to?"
   ]
  },
  {
   "cell_type": "markdown",
   "metadata": {},
   "source": [
    "### Conventional Pandas Method"
   ]
  },
  {
   "cell_type": "code",
   "execution_count": 26,
   "metadata": {},
   "outputs": [],
   "source": [
    "def degree(df, node):\n",
    "    \n",
    "    # Setup empty list\n",
    "    flights = []\n",
    "    \n",
    "    # Loop through every row\n",
    "    for i, row in df.iterrows():\n",
    "        \n",
    "        # If the node is either an origin or a destination, there must be a direct path\n",
    "        if row[\"origin\"] == node:\n",
    "            flights.append(row[\"destination\"])\n",
    "        elif row[\"destination\"] == node:\n",
    "            flights.append(row[\"origin\"])\n",
    "    \n",
    "    # Remove duplicates\n",
    "    flights = list(set(flights))\n",
    "    \n",
    "    return len(flights)"
   ]
  },
  {
   "cell_type": "code",
   "execution_count": 27,
   "metadata": {},
   "outputs": [
    {
     "data": {
      "text/plain": [
       "13"
      ]
     },
     "execution_count": 27,
     "metadata": {},
     "output_type": "execute_result"
    }
   ],
   "source": [
    "node = \"KEWR\"\n",
    "degree(df, node)"
   ]
  },
  {
   "cell_type": "markdown",
   "metadata": {},
   "source": [
    "## Graph Method"
   ]
  },
  {
   "cell_type": "code",
   "execution_count": 28,
   "metadata": {},
   "outputs": [
    {
     "data": {
      "text/plain": [
       "13"
      ]
     },
     "execution_count": 28,
     "metadata": {},
     "output_type": "execute_result"
    }
   ],
   "source": [
    "node = mapping_dict[\"KEWR\"]\n",
    "A[node].sum()"
   ]
  },
  {
   "cell_type": "markdown",
   "metadata": {},
   "source": [
    "## Analysis 3 : Shortest Path from A to B"
   ]
  },
  {
   "cell_type": "markdown",
   "metadata": {},
   "source": [
    "### Graph Method"
   ]
  },
  {
   "cell_type": "code",
   "execution_count": 30,
   "metadata": {},
   "outputs": [],
   "source": [
    "def shortest_path(A, x, y, iterations = 10, mapping_dict = mapping_dict):\n",
    "    \n",
    "    # Create copy of Matrix to work on\n",
    "    M = A.copy()\n",
    "    \n",
    "    # Get numerical representations of airports\n",
    "    i, j = mapping_dict[x], mapping_dict[y]\n",
    "    \n",
    "    # Define the maximum power to which A is to be raised\n",
    "    iterations = 10\n",
    "\n",
    "    # A = A*A until a path is found or the max iterations are reached\n",
    "    for k in range(iterations):\n",
    "        if M[i,j] == 0:\n",
    "            M = np.matmul(M,A)\n",
    "        else:\n",
    "            return (x,y,k)"
   ]
  },
  {
   "cell_type": "code",
   "execution_count": 31,
   "metadata": {},
   "outputs": [
    {
     "data": {
      "text/plain": [
       "['LIRF', 'EVRA']"
      ]
     },
     "execution_count": 31,
     "metadata": {},
     "output_type": "execute_result"
    }
   ],
   "source": [
    "home_airport = \"LFPO\"\n",
    "vacation_destinations = [\"YWHA\", \"LTAC\", \"LIRF\", \"EVRA\", \"KRFI\"]\n",
    "max_changes = 2\n",
    "\n",
    "n_changes = [shortest_path(A, home_airport, destination) for destination in vacation_destinations]\n",
    "acceptable = [destination for location, destination, changes in n_changes if changes <= 2]\n",
    "acceptable"
   ]
  }
 ],
 "metadata": {
  "kernelspec": {
   "display_name": "Python 3",
   "language": "python",
   "name": "python3"
  },
  "language_info": {
   "codemirror_mode": {
    "name": "ipython",
    "version": 3
   },
   "file_extension": ".py",
   "mimetype": "text/x-python",
   "name": "python",
   "nbconvert_exporter": "python",
   "pygments_lexer": "ipython3",
   "version": "3.7.6"
  }
 },
 "nbformat": 4,
 "nbformat_minor": 4
}
